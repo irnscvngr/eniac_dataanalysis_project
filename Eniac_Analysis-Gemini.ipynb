{
 "cells": [
  {
   "cell_type": "markdown",
   "id": "f9d05621-37cd-4e01-9e26-c106e8d00db8",
   "metadata": {},
   "source": [
    "# ENIAC ANALYSIS | GOOGLE GEMINI AI"
   ]
  },
  {
   "cell_type": "markdown",
   "id": "54ae5137-d60c-4435-8693-c5725a94409c",
   "metadata": {},
   "source": [
    "## Import Libraries"
   ]
  },
  {
   "cell_type": "code",
   "execution_count": 8,
   "id": "7a5d148e-7eb7-4bd6-93f4-10ebe35ae5cd",
   "metadata": {
    "tags": []
   },
   "outputs": [],
   "source": [
    "import numpy as np\n",
    "import pandas as pd\n",
    "import time\n",
    "import re\n",
    "import vertexai\n",
    "from pathlib import Path\n",
    "from vertexai.generative_models import GenerativeModel, ChatSession\n",
    "\n",
    "pd.options.display.max_columns = None # Print all columns to console"
   ]
  },
  {
   "cell_type": "markdown",
   "id": "78678bf0-8db5-4198-8449-b10578cc27d9",
   "metadata": {},
   "source": [
    "## Import Data"
   ]
  },
  {
   "cell_type": "code",
   "execution_count": 9,
   "id": "15d4d6a7-5e55-49f9-889b-c9d72b2852ae",
   "metadata": {
    "tags": []
   },
   "outputs": [],
   "source": [
    "folder = 'C:/Users/Patrick/OneDrive/Data Science/WBS Coding School/Bootcamp/02_Bootcamp/03_Week-03_Data-Cleaning&Storytelling/Python/cleaned_data/'\n",
    "\"\"\"\n",
    "-----List of CSVs:-----\n",
    "brands.csv\n",
    "orderlines.csv\n",
    "orders.csv\n",
    "products.csv\n",
    "\"\"\"\n",
    "\n",
    "brands = pd.read_csv(folder + 'brands.csv')\n",
    "orderlines = pd.read_csv(folder + 'orderlines_cleaned_Completed.csv')\n",
    "orders = pd.read_csv(folder + 'orders_cleaned_Completed.csv')\n",
    "products = pd.read_csv(folder + 'products_cleaned_Completed.csv')"
   ]
  },
  {
   "cell_type": "markdown",
   "id": "bde2f8a4-6266-4af9-b1dc-9f7fdd3abbcc",
   "metadata": {},
   "source": [
    "## Initialize additional description column"
   ]
  },
  {
   "cell_type": "code",
   "execution_count": 10,
   "id": "bce063cc-4d92-4eb3-8d70-064789f45e04",
   "metadata": {
    "tags": []
   },
   "outputs": [
    {
     "data": {
      "text/html": [
       "<div>\n",
       "<style scoped>\n",
       "    .dataframe tbody tr th:only-of-type {\n",
       "        vertical-align: middle;\n",
       "    }\n",
       "\n",
       "    .dataframe tbody tr th {\n",
       "        vertical-align: top;\n",
       "    }\n",
       "\n",
       "    .dataframe thead th {\n",
       "        text-align: right;\n",
       "    }\n",
       "</style>\n",
       "<table border=\"1\" class=\"dataframe\">\n",
       "  <thead>\n",
       "    <tr style=\"text-align: right;\">\n",
       "      <th></th>\n",
       "      <th>sku</th>\n",
       "      <th>name</th>\n",
       "      <th>desc</th>\n",
       "      <th>unit_price</th>\n",
       "      <th>in_stock</th>\n",
       "      <th>type</th>\n",
       "      <th>type_var</th>\n",
       "      <th>desc2</th>\n",
       "    </tr>\n",
       "  </thead>\n",
       "  <tbody>\n",
       "    <tr>\n",
       "      <th>4763</th>\n",
       "      <td>APP1652-A</td>\n",
       "      <td>Open - Apple iPhone 6s Plus 32GB Space Gray</td>\n",
       "      <td>New iPhone 6S Plus 32GB free with the open box</td>\n",
       "      <td>639.00</td>\n",
       "      <td>0</td>\n",
       "      <td>24811716</td>\n",
       "      <td>93</td>\n",
       "      <td>NaN</td>\n",
       "    </tr>\n",
       "    <tr>\n",
       "      <th>988</th>\n",
       "      <td>BOS0028</td>\n",
       "      <td>Bose Headphones White IE SoundTrue</td>\n",
       "      <td>Headphones great restraint iPhone iPod and iPad.</td>\n",
       "      <td>129.95</td>\n",
       "      <td>0</td>\n",
       "      <td>5384</td>\n",
       "      <td>6</td>\n",
       "      <td>NaN</td>\n",
       "    </tr>\n",
       "    <tr>\n",
       "      <th>1692</th>\n",
       "      <td>PAC1841</td>\n",
       "      <td>Synology DS216J | 12TB (2x6TB) Seagate IronWolf</td>\n",
       "      <td>NAS server with 12TB capacity (2x6TB) Seagate ...</td>\n",
       "      <td>735.97</td>\n",
       "      <td>0</td>\n",
       "      <td>12175397</td>\n",
       "      <td>31</td>\n",
       "      <td>NaN</td>\n",
       "    </tr>\n",
       "    <tr>\n",
       "      <th>1813</th>\n",
       "      <td>BEL0196</td>\n",
       "      <td>Belkin Car Charger 1A Black</td>\n",
       "      <td>Car Charger 5W 1A USB port for universal iPhone.</td>\n",
       "      <td>9.99</td>\n",
       "      <td>1</td>\n",
       "      <td>13615399</td>\n",
       "      <td>57</td>\n",
       "      <td>NaN</td>\n",
       "    </tr>\n",
       "    <tr>\n",
       "      <th>593</th>\n",
       "      <td>BEL0172</td>\n",
       "      <td>Belkin Slim-Fit Armband Plus iPhone 6 / 6S Rosa</td>\n",
       "      <td>Bracelet perfect fit for iPhone 6 / 6S.</td>\n",
       "      <td>24.99</td>\n",
       "      <td>0</td>\n",
       "      <td>5405</td>\n",
       "      <td>46</td>\n",
       "      <td>NaN</td>\n",
       "    </tr>\n",
       "  </tbody>\n",
       "</table>\n",
       "</div>"
      ],
      "text/plain": [
       "            sku                                             name  \\\n",
       "4763  APP1652-A      Open - Apple iPhone 6s Plus 32GB Space Gray   \n",
       "988     BOS0028               Bose Headphones White IE SoundTrue   \n",
       "1692    PAC1841  Synology DS216J | 12TB (2x6TB) Seagate IronWolf   \n",
       "1813    BEL0196                      Belkin Car Charger 1A Black   \n",
       "593     BEL0172  Belkin Slim-Fit Armband Plus iPhone 6 / 6S Rosa   \n",
       "\n",
       "                                                   desc  unit_price  in_stock  \\\n",
       "4763     New iPhone 6S Plus 32GB free with the open box      639.00         0   \n",
       "988    Headphones great restraint iPhone iPod and iPad.      129.95         0   \n",
       "1692  NAS server with 12TB capacity (2x6TB) Seagate ...      735.97         0   \n",
       "1813   Car Charger 5W 1A USB port for universal iPhone.        9.99         1   \n",
       "593             Bracelet perfect fit for iPhone 6 / 6S.       24.99         0   \n",
       "\n",
       "          type  type_var  desc2  \n",
       "4763  24811716        93    NaN  \n",
       "988       5384         6    NaN  \n",
       "1692  12175397        31    NaN  \n",
       "1813  13615399        57    NaN  \n",
       "593       5405        46    NaN  "
      ]
     },
     "execution_count": 10,
     "metadata": {},
     "output_type": "execute_result"
    }
   ],
   "source": [
    "products['desc2'] = np.NaN\n",
    "\n",
    "products.sample(5)"
   ]
  },
  {
   "cell_type": "markdown",
   "id": "fb5a1aec-1d6e-4357-92e2-bc953b455d8e",
   "metadata": {},
   "source": [
    "## Connect to Gemini AI"
   ]
  },
  {
   "cell_type": "code",
   "execution_count": 258,
   "id": "cf8e7d9c-b25e-4a8b-9d59-63f5acf6ca35",
   "metadata": {
    "tags": []
   },
   "outputs": [],
   "source": [
    "project_id = \"GCP_PROJECT_NAME\"\n",
    "location = \"GCP_LOCATION\"\n",
    "\n",
    "vertexai.init(project=project_id, location=location)\n",
    "model = GenerativeModel(\"gemini-1.0-pro\")\n",
    "chat = model.start_chat()\n",
    "\n",
    "def get_chat_response(chat: ChatSession, prompt: str) -> str:\n",
    "    text_response = []\n",
    "    responses = chat.send_message(prompt, stream=True)\n",
    "    for chunk in responses:\n",
    "        text_response.append(chunk.text)\n",
    "    return \"\".join(text_response)\n",
    "\n",
    "# The initial string to ask gemini\n",
    "# str_init = \"give me 3 product-keywords that describe items in the following list (don't include numbers). just return the keywords, nothing else. \"\n",
    "str_init = \"Tell me with 3 keywords which products the following list is about. Tell me just the product-types\"\n",
    "\n",
    "df_ref = products[products['desc2'].isna()]\n",
    "\n",
    "for i in sorted(df_ref['type_var'].unique()):\n",
    "    rowselect = products['type_var']==i\n",
    "    \n",
    "    df = products.loc[rowselect, 'desc'].head(3)\n",
    "    \n",
    "    desc = str(list(df))\n",
    "    \n",
    "    prompt = str_init + re.sub(\"[^\\w,\\s]\", \"\", desc)[:1000]\n",
    "    \n",
    "    response = get_chat_response(chat, prompt)\n",
    "    \n",
    "    products.loc[rowselect,'desc2'] = response\n",
    "    \n",
    "    time.sleep(5.0)"
   ]
  },
  {
   "cell_type": "markdown",
   "id": "7bb7c324-8644-46bf-8c66-a516c822f573",
   "metadata": {},
   "source": [
    "## Test results"
   ]
  },
  {
   "cell_type": "code",
   "execution_count": 302,
   "id": "ff518571-4351-4885-ab13-869e977a5b9c",
   "metadata": {
    "tags": []
   },
   "outputs": [
    {
     "data": {
      "text/html": [
       "<div>\n",
       "<style scoped>\n",
       "    .dataframe tbody tr th:only-of-type {\n",
       "        vertical-align: middle;\n",
       "    }\n",
       "\n",
       "    .dataframe tbody tr th {\n",
       "        vertical-align: top;\n",
       "    }\n",
       "\n",
       "    .dataframe thead th {\n",
       "        text-align: right;\n",
       "    }\n",
       "</style>\n",
       "<table border=\"1\" class=\"dataframe\">\n",
       "  <thead>\n",
       "    <tr style=\"text-align: right;\">\n",
       "      <th></th>\n",
       "      <th>name</th>\n",
       "      <th>desc2</th>\n",
       "      <th>type_var</th>\n",
       "    </tr>\n",
       "  </thead>\n",
       "  <tbody>\n",
       "    <tr>\n",
       "      <th>921</th>\n",
       "      <td>G-Technology G-Drive ev ATC Thunderbolt Hard D...</td>\n",
       "      <td>External hard drives, Mac accessories, PC acce...</td>\n",
       "      <td>23</td>\n",
       "    </tr>\n",
       "    <tr>\n",
       "      <th>363</th>\n",
       "      <td>LaCie d2 Quadra 4TB External Hard Drive USB 3....</td>\n",
       "      <td>External hard drives, Mac accessories, PC acce...</td>\n",
       "      <td>23</td>\n",
       "    </tr>\n",
       "    <tr>\n",
       "      <th>4941</th>\n",
       "      <td>WD Blue 250GB SATA SSD Nand 3D</td>\n",
       "      <td>SSD upgrades, MacBook Air accessories, Compute...</td>\n",
       "      <td>41</td>\n",
       "    </tr>\n",
       "    <tr>\n",
       "      <th>92</th>\n",
       "      <td>SSD expansion kit OWC Aura Pro 6G 240GB MacBoo...</td>\n",
       "      <td>SSD upgrades, MacBook Air accessories, Compute...</td>\n",
       "      <td>41</td>\n",
       "    </tr>\n",
       "    <tr>\n",
       "      <th>2210</th>\n",
       "      <td>BAR Samsung 128GB USB 3.0 Flash Drive Up to 13...</td>\n",
       "      <td>External hard drives, Mac accessories, PC acce...</td>\n",
       "      <td>23</td>\n",
       "    </tr>\n",
       "    <tr>\n",
       "      <th>4075</th>\n",
       "      <td>OWC Mercury Electra 6G SSD 250GB</td>\n",
       "      <td>SSD upgrades, MacBook Air accessories, Compute...</td>\n",
       "      <td>41</td>\n",
       "    </tr>\n",
       "    <tr>\n",
       "      <th>264</th>\n",
       "      <td>LaCie Porsche Design P9223 Slim 500GB HDD</td>\n",
       "      <td>External hard drives, Mac accessories, PC acce...</td>\n",
       "      <td>23</td>\n",
       "    </tr>\n",
       "    <tr>\n",
       "      <th>1544</th>\n",
       "      <td>OWC ThunderBay IV mini Thunderbolt 2 RAID</td>\n",
       "      <td>External hard drives, Mac accessories, PC acce...</td>\n",
       "      <td>23</td>\n",
       "    </tr>\n",
       "    <tr>\n",
       "      <th>73</th>\n",
       "      <td>Envoy OWC USB 3.0 Case for MacBook Air SSD 201...</td>\n",
       "      <td>External hard drives, Mac accessories, PC acce...</td>\n",
       "      <td>23</td>\n",
       "    </tr>\n",
       "    <tr>\n",
       "      <th>2664</th>\n",
       "      <td>OWC SSD Disk 240GB 6G Neptune 7mm SATA 3</td>\n",
       "      <td>SSD upgrades, MacBook Air accessories, Compute...</td>\n",
       "      <td>41</td>\n",
       "    </tr>\n",
       "  </tbody>\n",
       "</table>\n",
       "</div>"
      ],
      "text/plain": [
       "                                                   name  \\\n",
       "921   G-Technology G-Drive ev ATC Thunderbolt Hard D...   \n",
       "363   LaCie d2 Quadra 4TB External Hard Drive USB 3....   \n",
       "4941                     WD Blue 250GB SATA SSD Nand 3D   \n",
       "92    SSD expansion kit OWC Aura Pro 6G 240GB MacBoo...   \n",
       "2210  BAR Samsung 128GB USB 3.0 Flash Drive Up to 13...   \n",
       "4075                   OWC Mercury Electra 6G SSD 250GB   \n",
       "264           LaCie Porsche Design P9223 Slim 500GB HDD   \n",
       "1544          OWC ThunderBay IV mini Thunderbolt 2 RAID   \n",
       "73    Envoy OWC USB 3.0 Case for MacBook Air SSD 201...   \n",
       "2664           OWC SSD Disk 240GB 6G Neptune 7mm SATA 3   \n",
       "\n",
       "                                                  desc2  type_var  \n",
       "921   External hard drives, Mac accessories, PC acce...        23  \n",
       "363   External hard drives, Mac accessories, PC acce...        23  \n",
       "4941  SSD upgrades, MacBook Air accessories, Compute...        41  \n",
       "92    SSD upgrades, MacBook Air accessories, Compute...        41  \n",
       "2210  External hard drives, Mac accessories, PC acce...        23  \n",
       "4075  SSD upgrades, MacBook Air accessories, Compute...        41  \n",
       "264   External hard drives, Mac accessories, PC acce...        23  \n",
       "1544  External hard drives, Mac accessories, PC acce...        23  \n",
       "73    External hard drives, Mac accessories, PC acce...        23  \n",
       "2664  SSD upgrades, MacBook Air accessories, Compute...        41  "
      ]
     },
     "execution_count": 302,
     "metadata": {},
     "output_type": "execute_result"
    }
   ],
   "source": [
    "# TEST - 23, 24, 41 are hard drives\n",
    "products[products['type_var'].isin([23,24,41])][['name','desc2','type_var']].sample(10)"
   ]
  },
  {
   "cell_type": "code",
   "execution_count": 306,
   "id": "9febd1d8-71e9-4051-8940-25d7fef7eea8",
   "metadata": {
    "tags": []
   },
   "outputs": [
    {
     "data": {
      "text/plain": [
       "0"
      ]
     },
     "execution_count": 306,
     "metadata": {},
     "output_type": "execute_result"
    }
   ],
   "source": [
    "products['desc2'].isna().sum()"
   ]
  },
  {
   "cell_type": "code",
   "execution_count": 308,
   "id": "947a30ab-175a-4fa4-94a8-0ccfff2242df",
   "metadata": {
    "tags": []
   },
   "outputs": [],
   "source": [
    "type_to_keywords = products[['type','type_var','desc2']]\n",
    "\n",
    "type_to_keywords.to_csv(folder + 'type_to_keywords.csv',index=False)"
   ]
  },
  {
   "cell_type": "markdown",
   "id": "5ddefcd6-5c04-46e5-b51e-fba06a4f700b",
   "metadata": {},
   "source": [
    "## Export results"
   ]
  },
  {
   "cell_type": "code",
   "execution_count": 312,
   "id": "a367b01b-796e-45cf-a1a7-3a1aa1bce706",
   "metadata": {
    "tags": []
   },
   "outputs": [
    {
     "data": {
      "text/html": [
       "<div>\n",
       "<style scoped>\n",
       "    .dataframe tbody tr th:only-of-type {\n",
       "        vertical-align: middle;\n",
       "    }\n",
       "\n",
       "    .dataframe tbody tr th {\n",
       "        vertical-align: top;\n",
       "    }\n",
       "\n",
       "    .dataframe thead th {\n",
       "        text-align: right;\n",
       "    }\n",
       "</style>\n",
       "<table border=\"1\" class=\"dataframe\">\n",
       "  <thead>\n",
       "    <tr style=\"text-align: right;\">\n",
       "      <th></th>\n",
       "      <th>desc2</th>\n",
       "    </tr>\n",
       "    <tr>\n",
       "      <th>type_var</th>\n",
       "      <th></th>\n",
       "    </tr>\n",
       "  </thead>\n",
       "  <tbody>\n",
       "    <tr>\n",
       "      <th>0</th>\n",
       "      <td>Laptop accessories, Keyboard accessories, Trac...</td>\n",
       "    </tr>\n",
       "    <tr>\n",
       "      <th>1</th>\n",
       "      <td>Keyboards, Keypads, Mac accessories</td>\n",
       "    </tr>\n",
       "    <tr>\n",
       "      <th>2</th>\n",
       "      <td>Mice, Mouse accessories, Computer accessories</td>\n",
       "    </tr>\n",
       "    <tr>\n",
       "      <th>3</th>\n",
       "      <td>iPhone accessories, iPod accessories, iPad acc...</td>\n",
       "    </tr>\n",
       "    <tr>\n",
       "      <th>4</th>\n",
       "      <td>Mac accessories, Memory, RAM</td>\n",
       "    </tr>\n",
       "    <tr>\n",
       "      <th>...</th>\n",
       "      <td>...</td>\n",
       "    </tr>\n",
       "    <tr>\n",
       "      <th>118</th>\n",
       "      <td>Smartphones, Apple products, iPhone accessories</td>\n",
       "    </tr>\n",
       "    <tr>\n",
       "      <th>119</th>\n",
       "      <td>Desktop computers, Mac computers, Refurbished ...</td>\n",
       "    </tr>\n",
       "    <tr>\n",
       "      <th>120</th>\n",
       "      <td>Tablets, Apple products, iPad accessories</td>\n",
       "    </tr>\n",
       "    <tr>\n",
       "      <th>121</th>\n",
       "      <td>Smart home devices, HomeKit accessories, Sensors</td>\n",
       "    </tr>\n",
       "    <tr>\n",
       "      <th>124</th>\n",
       "      <td>Apple products, Multimedia players, Refurbishe...</td>\n",
       "    </tr>\n",
       "  </tbody>\n",
       "</table>\n",
       "<p>114 rows × 1 columns</p>\n",
       "</div>"
      ],
      "text/plain": [
       "                                                      desc2\n",
       "type_var                                                   \n",
       "0         Laptop accessories, Keyboard accessories, Trac...\n",
       "1                       Keyboards, Keypads, Mac accessories\n",
       "2             Mice, Mouse accessories, Computer accessories\n",
       "3         iPhone accessories, iPod accessories, iPad acc...\n",
       "4                              Mac accessories, Memory, RAM\n",
       "...                                                     ...\n",
       "118         Smartphones, Apple products, iPhone accessories\n",
       "119       Desktop computers, Mac computers, Refurbished ...\n",
       "120               Tablets, Apple products, iPad accessories\n",
       "121        Smart home devices, HomeKit accessories, Sensors\n",
       "124       Apple products, Multimedia players, Refurbishe...\n",
       "\n",
       "[114 rows x 1 columns]"
      ]
     },
     "execution_count": 312,
     "metadata": {},
     "output_type": "execute_result"
    }
   ],
   "source": [
    "filename = 'type_to_keywords.csv'\n",
    "df_gemini_desc = pd.read_csv(folder + filename).groupby('type_var').agg({'desc2':'first'})\n",
    "\n"
   ]
  }
 ],
 "metadata": {
  "kernelspec": {
   "display_name": "Python 3 (ipykernel)",
   "language": "python",
   "name": "python3"
  },
  "language_info": {
   "codemirror_mode": {
    "name": "ipython",
    "version": 3
   },
   "file_extension": ".py",
   "mimetype": "text/x-python",
   "name": "python",
   "nbconvert_exporter": "python",
   "pygments_lexer": "ipython3",
   "version": "3.11.5"
  }
 },
 "nbformat": 4,
 "nbformat_minor": 5
}
